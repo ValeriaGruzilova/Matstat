{
 "cells": [
  {
   "cell_type": "code",
   "execution_count": 1,
   "id": "f8a50674",
   "metadata": {},
   "outputs": [],
   "source": [
    "import numpy as np\n",
    "import pandas as pd"
   ]
  },
  {
   "cell_type": "code",
   "execution_count": 2,
   "id": "d44a82f3",
   "metadata": {},
   "outputs": [],
   "source": [
    "def create_intervals(data, n):\n",
    "    # количество интервалов\n",
    "    S = int(1 + np.floor(np.log2(n)))\n",
    "    data_intrvl = pd.cut(data.iloc[:, 0], bins=S)\n",
    "    data[1] = data_intrvl\n",
    "    return data, data_intrvl"
   ]
  },
  {
   "cell_type": "code",
   "execution_count": 71,
   "id": "cb53ea5f",
   "metadata": {},
   "outputs": [],
   "source": [
    "def create_intrvl_median(data_intrvl, n_i, n):\n",
    "    intervals = data_intrvl.value_counts().sort_index().index\n",
    "    intrvl_median = pd.DataFrame(columns=['x_i', 'w_i'])\n",
    "    \n",
    "    for i in range(intervals.size):\n",
    "        intrvl_median.loc[i] = [(intervals[i].right + intervals[i].left) / 2,\n",
    "                               n_i[i] / n]\n",
    "        \n",
    "    print(intrvl_median)\n",
    "    return intrvl_median"
   ]
  },
  {
   "cell_type": "code",
   "execution_count": 72,
   "id": "e6a91af0",
   "metadata": {},
   "outputs": [],
   "source": [
    "def for_excel(file):\n",
    "    data = pd.read_csv(file, header=None).sort_values(by=0, ignore_index=True)\n",
    "    # количество всех измерений\n",
    "    n = data.shape[0]\n",
    "    \n",
    "    data, data_intrvl = create_intervals(data, n)\n",
    "    n_i = data[1].value_counts().sort_index()\n",
    "    \n",
    "\n",
    "    intrvl_median = create_intrvl_median(data_intrvl, n_i, n)\n",
    "    name = 'excel_' + file[0] + '.txt'\n",
    "    intrvl_median.to_csv(name, sep='\\t')"
   ]
  },
  {
   "cell_type": "code",
   "execution_count": 73,
   "id": "cd0e8a5e",
   "metadata": {},
   "outputs": [
    {
     "name": "stdout",
     "output_type": "stream",
     "text": [
      "       x_i      w_i\n",
      "0  -5.1965  0.06250\n",
      "1   0.4620  0.18750\n",
      "2   6.1040  0.34375\n",
      "3  11.7460  0.18750\n",
      "4  17.3880  0.09375\n",
      "5  23.0300  0.12500\n"
     ]
    }
   ],
   "source": [
    "for_excel(\"1.txt\")"
   ]
  },
  {
   "cell_type": "code",
   "execution_count": 74,
   "id": "8b04832f",
   "metadata": {},
   "outputs": [
    {
     "name": "stdout",
     "output_type": "stream",
     "text": [
      "      x_i      w_i\n",
      "0 -5.2275  0.21875\n",
      "1 -2.9595  0.12500\n",
      "2 -0.6985  0.25000\n",
      "3  1.5625  0.15625\n",
      "4  3.8235  0.12500\n",
      "5  6.0845  0.12500\n"
     ]
    }
   ],
   "source": [
    "for_excel(\"2.txt\")"
   ]
  },
  {
   "cell_type": "code",
   "execution_count": 75,
   "id": "d006602b",
   "metadata": {},
   "outputs": [
    {
     "name": "stdout",
     "output_type": "stream",
     "text": [
      "      x_i      w_i\n",
      "0  0.5798  0.46875\n",
      "1  1.6885  0.34375\n",
      "2  2.7940  0.03125\n",
      "3  3.8995  0.06250\n",
      "4  5.0050  0.00000\n",
      "5  6.1105  0.09375\n"
     ]
    }
   ],
   "source": [
    "for_excel(\"3.txt\")"
   ]
  },
  {
   "cell_type": "code",
   "execution_count": 76,
   "id": "9f8d097a",
   "metadata": {},
   "outputs": [
    {
     "name": "stdout",
     "output_type": "stream",
     "text": [
      "       x_i       w_i\n",
      "0  -8.6425  0.109375\n",
      "1  -5.4860  0.312500\n",
      "2  -2.3420  0.273438\n",
      "3   0.8020  0.250000\n",
      "4   3.9455  0.039062\n",
      "5   7.0890  0.007812\n",
      "6  10.2330  0.000000\n",
      "7  13.3770  0.007812\n"
     ]
    }
   ],
   "source": [
    "for_excel(\"4.txt\")"
   ]
  },
  {
   "cell_type": "code",
   "execution_count": 77,
   "id": "5174b174",
   "metadata": {},
   "outputs": [
    {
     "name": "stdout",
     "output_type": "stream",
     "text": [
      "      x_i       w_i\n",
      "0 -1.8290  0.179688\n",
      "1 -1.0225  0.148438\n",
      "2 -0.2190  0.140625\n",
      "3  0.5845  0.125000\n",
      "4  1.3880  0.140625\n",
      "5  2.1915  0.078125\n",
      "6  2.9950  0.062500\n",
      "7  3.7985  0.125000\n"
     ]
    }
   ],
   "source": [
    "for_excel(\"5.txt\")"
   ]
  },
  {
   "cell_type": "code",
   "execution_count": 78,
   "id": "0cdeeea8",
   "metadata": {},
   "outputs": [
    {
     "name": "stdout",
     "output_type": "stream",
     "text": [
      "         x_i       w_i\n",
      "0   0.695235  0.406250\n",
      "1   2.098500  0.289062\n",
      "2   3.496000  0.140625\n",
      "3   4.894000  0.062500\n",
      "4   6.292000  0.031250\n",
      "5   7.690000  0.023438\n",
      "6   9.088000  0.039062\n",
      "7  10.485500  0.007812\n"
     ]
    }
   ],
   "source": [
    "for_excel(\"6.txt\")"
   ]
  },
  {
   "cell_type": "code",
   "execution_count": null,
   "id": "aadaf43f",
   "metadata": {},
   "outputs": [],
   "source": []
  },
  {
   "cell_type": "code",
   "execution_count": null,
   "id": "3486930f",
   "metadata": {},
   "outputs": [],
   "source": []
  }
 ],
 "metadata": {
  "kernelspec": {
   "display_name": "Python 3 (ipykernel)",
   "language": "python",
   "name": "python3"
  },
  "language_info": {
   "codemirror_mode": {
    "name": "ipython",
    "version": 3
   },
   "file_extension": ".py",
   "mimetype": "text/x-python",
   "name": "python",
   "nbconvert_exporter": "python",
   "pygments_lexer": "ipython3",
   "version": "3.9.2"
  }
 },
 "nbformat": 4,
 "nbformat_minor": 5
}
