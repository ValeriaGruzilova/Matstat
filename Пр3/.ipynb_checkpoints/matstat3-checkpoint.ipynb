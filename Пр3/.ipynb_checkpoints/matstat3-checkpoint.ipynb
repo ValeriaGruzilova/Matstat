{
 "cells": [
  {
   "cell_type": "markdown",
   "id": "d0ec2580",
   "metadata": {},
   "source": [
    "# МатСтат. Практика 3.1\n",
    "## Критерий согласия Пирсона (хи-квадрат)\n",
    "\n",
    "В папке 6 файлов с данными. Данные имеют различные распределения:\n",
    "- 1 и 4 файлы - нормальное распределение;\n",
    "- 2 и 5 файлы - равномерное распределение;\n",
    "- 3 и 6 файлы - показательное распределение.\n",
    "\n",
    "Необходимо идентифицировать распределения в каждом файле двумя способами:\n",
    "1. С помощью критерия согласия Пирсона;\n",
    "2. Методом анаморфоз (excel-файлы в папке \"прочее\").\n",
    "\n",
    "Методом Пирсона для каждого файла нужно проверить истинное распределение (то, к которому действительно относятся данные в файле, оно дано выше) и одное ложное.  \n",
    "Например, если данные в файле распределены нормально, то нужно проверить нормальное распределение и одно из двух: показательное или равномерное.  \n",
    "При расчете теоретических частот в качестве параметров распределений брать их точечные несмещенные оценки.\n",
    "В отчет вставить гистограммы по каждому файлу, расчетные формулы и результаты проверки распределения."
   ]
  },
  {
   "cell_type": "code",
   "execution_count": 1,
   "id": "5497aa74",
   "metadata": {},
   "outputs": [],
   "source": [
    "import numpy as np\n",
    "import pandas as pd\n",
    "import scipy.stats as sps\n",
    "import matplotlib.pyplot as plt"
   ]
  },
  {
   "cell_type": "code",
   "execution_count": 2,
   "id": "df4ce679",
   "metadata": {},
   "outputs": [],
   "source": [
    "def create_intervals(data, n):\n",
    "    # количество интервалов\n",
    "    S = int(1 + np.floor(np.log2(n)))\n",
    "    data_intrvl = pd.cut(data.iloc[:, 0], bins=S)\n",
    "    data[1] = data_intrvl\n",
    "    return data, data_intrvl"
   ]
  },
  {
   "cell_type": "code",
   "execution_count": 3,
   "id": "d9c86d86",
   "metadata": {},
   "outputs": [],
   "source": [
    "def create_intrvl_brdrs(data_intrvl):\n",
    "    intrvl_brdrs = []\n",
    "    intervals = data_intrvl.value_counts().sort_index().index\n",
    "    for i in range(intervals.size):\n",
    "        intrvl_brdrs = np.append(intrvl_brdrs, intervals[i].left)\n",
    "        \n",
    "    intrvl_brdrs = np.append(intrvl_brdrs, intervals[intervals.size - 1].right)\n",
    "    return intrvl_brdrs"
   ]
  },
  {
   "cell_type": "code",
   "execution_count": 4,
   "id": "58aeb565",
   "metadata": {},
   "outputs": [],
   "source": [
    "def get_ni_norm(n, mj, std, intrvl_brdrs):\n",
    "    #loc = мат. ожид., scale = ско\n",
    "    p_i = np.zeros(intrvl_brdrs.size - 1)\n",
    "    \n",
    "    for i in range (intrvl_brdrs.size - 1):\n",
    "        p_i[i] = sps.norm.cdf(intrvl_brdrs[i+1], mj, std) - sps.norm.cdf(intrvl_brdrs[i], mj, std)\n",
    "    return n * p_i"
   ]
  },
  {
   "cell_type": "code",
   "execution_count": 5,
   "id": "41903a3b",
   "metadata": {},
   "outputs": [],
   "source": [
    "def get_ni_uniform(n, mj, std, intrvl_brdrs):\n",
    "    #loc = a, scale = b - a\n",
    "    p_i = np.zeros(intrvl_brdrs.size - 1)\n",
    "    b = np.sqrt(3) * std + mj\n",
    "    a = 2 * mj - b\n",
    "    \n",
    "    for i in range (intrvl_brdrs.size - 1):\n",
    "        p_i[i] = sps.uniform.cdf(intrvl_brdrs[i+1], a, b - a) - sps.uniform.cdf(intrvl_brdrs[i], a, b - a)\n",
    "    return n * p_i"
   ]
  },
  {
   "cell_type": "code",
   "execution_count": 6,
   "id": "824de820",
   "metadata": {},
   "outputs": [],
   "source": [
    "def get_ni_expon(n, mj, intrvl_brdrs):\n",
    "    #loc = 0, scale = мат. ожид.\n",
    "    p_i = np.zeros(intrvl_brdrs.size - 1)\n",
    "    print('lam= ', 1/mj)\n",
    "    \n",
    "    for i in range (intrvl_brdrs.size - 1):\n",
    "        p_i[i] = sps.expon.cdf(intrvl_brdrs[i+1], 0, mj) - sps.expon.cdf(intrvl_brdrs[i], 0, mj)\n",
    "    return n * p_i"
   ]
  },
  {
   "cell_type": "code",
   "execution_count": 7,
   "id": "844b1371",
   "metadata": {},
   "outputs": [],
   "source": [
    "def get_chi_sqr(n_i, n_i_exp):\n",
    "    return np.sum((n_i - n_i_exp)**2 / n_i_exp)"
   ]
  },
  {
   "cell_type": "code",
   "execution_count": 8,
   "id": "5ccfb623",
   "metadata": {},
   "outputs": [],
   "source": [
    "def draw_hist(n_i, n_i_exp, raspr, file):\n",
    "    plt.figure(figsize =(8, 5))\n",
    "    fig = n_i.plot(kind='bar')\n",
    "    #fig.set_xticklabels(intrvl_brdrs[1:])\n",
    "    plt.plot(n_i_exp, color='red')\n",
    "    plt.title(raspr + ' распределение, файл ' + file)\n",
    "    plt.grid();"
   ]
  },
  {
   "cell_type": "code",
   "execution_count": 9,
   "id": "dc282117",
   "metadata": {},
   "outputs": [],
   "source": [
    "def pearson_criterion(file, raspr, correct):\n",
    "    alpha = 0.05\n",
    "    data = pd.read_csv(file, header=None).sort_values(by=0, ignore_index=True)\n",
    "    # количество всех измерений\n",
    "    n = data.shape[0]\n",
    "    \n",
    "    data, data_intrvl = create_intervals(data, n)\n",
    "    \n",
    "    if (file == '4.txt') & (raspr == correct):\n",
    "        n_i = data[1].value_counts().sort_index().iloc[:5]\n",
    "    elif (file == '3.txt') & (raspr == correct):\n",
    "        n_i = data[1].value_counts().sort_index().iloc[:5]  \n",
    "    else:\n",
    "        n_i = data[1].value_counts().sort_index()\n",
    "        \n",
    "    print('n_i:\\n', n_i)\n",
    "    \n",
    "    mj = np.mean(data[0])\n",
    "    std = np.std(data[0])\n",
    "    print('mj =', np.round(mj, 2), '   std =', np.round(std, 2))\n",
    "    intrvl_brdrs = create_intrvl_brdrs(data_intrvl)\n",
    "    \n",
    "    if raspr == 'norm':\n",
    "        r = 2\n",
    "        if file == '4.txt':\n",
    "            n_i_exp = get_ni_norm(n, mj, std, intrvl_brdrs[:6])\n",
    "        else:\n",
    "            n_i_exp = get_ni_norm(n, mj, std, intrvl_brdrs)\n",
    "    if raspr == 'uniform':\n",
    "        r = 2\n",
    "        n_i_exp = get_ni_uniform(n, mj, std, intrvl_brdrs)\n",
    "    if raspr == 'expon':\n",
    "        r = 1\n",
    "        if file == '3.txt':\n",
    "            n_i_exp = get_ni_expon(n, mj, intrvl_brdrs[:6])\n",
    "        else:\n",
    "            n_i_exp = get_ni_expon(n, mj, intrvl_brdrs)\n",
    "        \n",
    "    print('\\nn_i ожидаемые:\\n', n_i_exp)\n",
    "    print('\\nCHI_SQR = ', get_chi_sqr(n_i, n_i_exp))\n",
    "    dgr_frdm = (intrvl_brdrs.size - 1) - r - 1\n",
    "    print('dgr_freedom = ', dgr_frdm, ', alpha = ', alpha)\n",
    "    \n",
    "    if correct == raspr:\n",
    "        draw_hist(n_i, n_i_exp, raspr, file)"
   ]
  },
  {
   "cell_type": "markdown",
   "id": "2d7ccebf",
   "metadata": {},
   "source": [
    "### Критические значения:\n",
    "#### chi_sqr при k=3, alpha=0.05 равен 7.8\n",
    "#### chi_sqr при k=4, alpha=0.05 равен 9.5\n",
    "\n",
    "Красной линией на графике обозначено ожидаемое распределение данных при заданных параметрах распределений.  \n",
    "Графики нарисованы только при проверке распределения, которое совпадает с истинным в конкретном файле."
   ]
  },
  {
   "cell_type": "code",
   "execution_count": 10,
   "id": "d5dc8f80",
   "metadata": {
    "scrolled": false
   },
   "outputs": [
    {
     "name": "stdout",
     "output_type": "stream",
     "text": [
      "n_i:\n",
      " (-8.034, -2.359]     2\n",
      "(-2.359, 3.283]      6\n",
      "(3.283, 8.925]      11\n",
      "(8.925, 14.567]      6\n",
      "(14.567, 20.209]     3\n",
      "(20.209, 25.851]     4\n",
      "Name: 1, dtype: int64\n",
      "mj = 8.67    std = 7.74\n",
      "\n",
      "n_i ожидаемые:\n",
      " [1.97359534 5.31625135 8.63487014 8.43889572 4.96229726 1.75457755]\n",
      "\n",
      "CHI_SQR =  5.0905250107727795\n",
      "dgr_freedom =  3 , alpha =  0.05\n"
     ]
    },
    {
     "data": {
      "image/png": "[encoded data removed]",
      "text/plain": [
       "<Figure size 576x360 with 1 Axes>"
      ]
     },
     "metadata": {
      "needs_background": "light"
     },
     "output_type": "display_data"
    }
   ],
   "source": [
    "pearson_criterion(file='1.txt', raspr='norm', correct='norm')"
   ]
  },
  {
   "cell_type": "code",
   "execution_count": 11,
   "id": "a9ab3237",
   "metadata": {},
   "outputs": [
    {
     "name": "stdout",
     "output_type": "stream",
     "text": [
      "n_i:\n",
      " (-8.034, -2.359]     2\n",
      "(-2.359, 3.283]      6\n",
      "(3.283, 8.925]      11\n",
      "(8.925, 14.567]      6\n",
      "(14.567, 20.209]     3\n",
      "(20.209, 25.851]     4\n",
      "Name: 1, dtype: int64\n",
      "mj = 8.67    std = 7.74\n",
      "lam=  0.11534046874565095\n",
      "\n",
      "n_i ожидаемые:\n",
      " [ 0.         10.08715173 10.48192536  5.46793732  2.85237086  1.4879504 ]\n",
      "\n",
      "CHI_SQR =  inf\n",
      "dgr_freedom =  4 , alpha =  0.05\n"
     ]
    }
   ],
   "source": [
    "pearson_criterion(file='1.txt', raspr='expon', correct='norm')"
   ]
  },
  {
   "cell_type": "code",
   "execution_count": 12,
   "id": "a2202e20",
   "metadata": {},
   "outputs": [
    {
     "name": "stdout",
     "output_type": "stream",
     "text": [
      "n_i:\n",
      " (-6.365, -4.09]    7\n",
      "(-4.09, -1.829]    4\n",
      "(-1.829, 0.432]    8\n",
      "(0.432, 2.693]     5\n",
      "(2.693, 4.954]     4\n",
      "(4.954, 7.215]     4\n",
      "Name: 1, dtype: int64\n",
      "mj = -0.12    std = 3.94\n",
      "\n",
      "n_i ожидаемые:\n",
      " [5.33002188 5.29722174 5.29722174 5.29722174 5.29722174 4.12242196]\n",
      "\n",
      "CHI_SQR =  2.557914937056694\n",
      "dgr_freedom =  3 , alpha =  0.05\n"
     ]
    },
    {
     "data": {
      "image/png": "[encoded data removed]",
      "text/plain": [
       "<Figure size 576x360 with 1 Axes>"
      ]
     },
     "metadata": {
      "needs_background": "light"
     },
     "output_type": "display_data"
    }
   ],
   "source": [
    "pearson_criterion(file='2.txt', raspr='uniform', correct='uniform')"
   ]
  },
  {
   "cell_type": "code",
   "execution_count": 13,
   "id": "10b4e449",
   "metadata": {},
   "outputs": [
    {
     "name": "stdout",
     "output_type": "stream",
     "text": [
      "n_i:\n",
      " (-6.365, -4.09]    7\n",
      "(-4.09, -1.829]    4\n",
      "(-1.829, 0.432]    8\n",
      "(0.432, 2.693]     5\n",
      "(2.693, 4.954]     4\n",
      "(4.954, 7.215]     4\n",
      "Name: 1, dtype: int64\n",
      "mj = -0.12    std = 3.94\n",
      "\n",
      "n_i ожидаемые:\n",
      " [3.20786615 5.60693402 7.14520756 6.61239994 4.44373725 2.16836631]\n",
      "\n",
      "CHI_SQR =  7.03030038531092\n",
      "dgr_freedom =  3 , alpha =  0.05\n"
     ]
    }
   ],
   "source": [
    "pearson_criterion(file='2.txt', raspr='norm', correct='uniform')"
   ]
  },
  {
   "cell_type": "code",
   "execution_count": 14,
   "id": "ad7f450d",
   "metadata": {},
   "outputs": [
    {
     "name": "stdout",
     "output_type": "stream",
     "text": [
      "n_i:\n",
      " (0.0236, 1.136]    15\n",
      "(1.136, 2.241]     11\n",
      "(2.241, 3.347]      1\n",
      "(3.347, 4.452]      2\n",
      "(4.452, 5.558]      0\n",
      "Name: 1, dtype: int64\n",
      "mj = 1.61    std = 1.77\n",
      "lam=  0.6221609853512182\n",
      "\n",
      "n_i ожидаемые:\n",
      " [15.75014084  7.84692975  3.94821399  1.98282858  0.99766811]\n",
      "\n",
      "CHI_SQR =  4.502010750859283\n",
      "dgr_freedom =  4 , alpha =  0.05\n"
     ]
    },
    {
     "data": {
      "image/png": "[encoded data removed]",
      "text/plain": [
       "<Figure size 576x360 with 1 Axes>"
      ]
     },
     "metadata": {
      "needs_background": "light"
     },
     "output_type": "display_data"
    }
   ],
   "source": [
    "pearson_criterion(file='3.txt', raspr='expon', correct='expon')"
   ]
  },
  {
   "cell_type": "code",
   "execution_count": 15,
   "id": "0a160482",
   "metadata": {},
   "outputs": [
    {
     "name": "stdout",
     "output_type": "stream",
     "text": [
      "n_i:\n",
      " (0.0236, 1.136]    15\n",
      "(1.136, 2.241]     11\n",
      "(2.241, 3.347]      1\n",
      "(3.347, 4.452]      2\n",
      "(4.452, 5.558]      0\n",
      "(5.558, 6.663]      3\n",
      "Name: 1, dtype: int64\n",
      "mj = 1.61    std = 1.77\n",
      "\n",
      "n_i ожидаемые:\n",
      " [6.70028124 7.82489651 6.31027825 3.485004   1.32252625 0.34340171]\n",
      "\n",
      "CHI_SQR =  38.54515017148968\n",
      "dgr_freedom =  3 , alpha =  0.05\n"
     ]
    }
   ],
   "source": [
    "pearson_criterion(file='3.txt', raspr='norm', correct='expon')"
   ]
  },
  {
   "cell_type": "markdown",
   "id": "4360888f",
   "metadata": {},
   "source": [
    "### Критические значения:\n",
    "#### chi_sqr при k=3, alpha=0.05 равен 7.8\n",
    "#### chi_sqr при k=4, alpha=0.05 равен 9.5\n",
    "#### chi_sqr при k=5, alpha=0.05 равен 11.1\n",
    "#### chi_sqr при k=6, alpha=0.05 равен 12.6\n"
   ]
  },
  {
   "cell_type": "code",
   "execution_count": 16,
   "id": "e94cf8c6",
   "metadata": {},
   "outputs": [
    {
     "name": "stdout",
     "output_type": "stream",
     "text": [
      "n_i:\n",
      " (-10.227, -7.058]    14\n",
      "(-7.058, -3.914]     40\n",
      "(-3.914, -0.77]      35\n",
      "(-0.77, 2.374]       32\n",
      "(2.374, 5.517]        5\n",
      "Name: 1, dtype: int64\n",
      "mj = -2.77    std = 3.84\n",
      "\n",
      "n_i ожидаемые:\n",
      " [13.60779615 32.10887963 40.38202133 26.98256315  9.56831318]\n",
      "\n",
      "CHI_SQR =  5.782041129172301\n",
      "dgr_freedom =  5 , alpha =  0.05\n"
     ]
    },
    {
     "data": {
      "image/png": "[encoded data removed]",
      "text/plain": [
       "<Figure size 576x360 with 1 Axes>"
      ]
     },
     "metadata": {
      "needs_background": "light"
     },
     "output_type": "display_data"
    }
   ],
   "source": [
    "pearson_criterion(file='4.txt', raspr='norm', correct='norm')"
   ]
  },
  {
   "cell_type": "code",
   "execution_count": 17,
   "id": "5dc608b1",
   "metadata": {},
   "outputs": [
    {
     "name": "stdout",
     "output_type": "stream",
     "text": [
      "n_i:\n",
      " (-10.227, -7.058]    14\n",
      "(-7.058, -3.914]     40\n",
      "(-3.914, -0.77]      35\n",
      "(-0.77, 2.374]       32\n",
      "(2.374, 5.517]        5\n",
      "(5.517, 8.661]        1\n",
      "(8.661, 11.805]       0\n",
      "(11.805, 14.949]      1\n",
      "Name: 1, dtype: int64\n",
      "mj = -2.77    std = 3.84\n",
      "\n",
      "n_i ожидаемые:\n",
      " [22.82913664 30.21691072 30.21691072 30.21691072 14.52013118  0.\n",
      "  0.          0.        ]\n",
      "\n",
      "CHI_SQR =  inf\n",
      "dgr_freedom =  5 , alpha =  0.05\n"
     ]
    }
   ],
   "source": [
    "pearson_criterion(file='4.txt', raspr='uniform', correct='norm')"
   ]
  },
  {
   "cell_type": "code",
   "execution_count": 18,
   "id": "a4025128",
   "metadata": {},
   "outputs": [
    {
     "name": "stdout",
     "output_type": "stream",
     "text": [
      "n_i:\n",
      " (-2.234, -1.424]    23\n",
      "(-1.424, -0.621]    19\n",
      "(-0.621, 0.183]     18\n",
      "(0.183, 0.986]      16\n",
      "(0.986, 1.79]       18\n",
      "(1.79, 2.593]       10\n",
      "(2.593, 3.397]       8\n",
      "(3.397, 4.2]        16\n",
      "Name: 1, dtype: int64\n",
      "mj = 0.63    std = 1.91\n",
      "\n",
      "n_i ожидаемые:\n",
      " [15.70975134 15.57398806 15.59338282 15.57398806 15.59338282 15.57398806\n",
      " 15.59338282 10.28876129]\n",
      "\n",
      "CHI_SQR =  13.754194183418726\n",
      "dgr_freedom =  5 , alpha =  0.05\n"
     ]
    },
    {
     "data": {
      "image/png": "[encoded data removed]",
      "text/plain": [
       "<Figure size 576x360 with 1 Axes>"
      ]
     },
     "metadata": {
      "needs_background": "light"
     },
     "output_type": "display_data"
    }
   ],
   "source": [
    "pearson_criterion(file='5.txt', raspr='uniform', correct='uniform')"
   ]
  },
  {
   "cell_type": "code",
   "execution_count": 19,
   "id": "6bc869c9",
   "metadata": {},
   "outputs": [
    {
     "name": "stdout",
     "output_type": "stream",
     "text": [
      "n_i:\n",
      " (-2.234, -1.424]    23\n",
      "(-1.424, -0.621]    19\n",
      "(-0.621, 0.183]     18\n",
      "(0.183, 0.986]      16\n",
      "(0.986, 1.79]       18\n",
      "(1.79, 2.593]       10\n",
      "(2.593, 3.397]       8\n",
      "(3.397, 4.2]        16\n",
      "Name: 1, dtype: int64\n",
      "mj = 0.63    std = 1.91\n",
      "\n",
      "n_i ожидаемые:\n",
      " [ 9.50067021 14.76352789 19.40790451 21.35923656 19.77650089 15.32966789\n",
      "  9.99715924  5.45763606]\n",
      "\n",
      "CHI_SQR =  44.61936448928259\n",
      "dgr_freedom =  5 , alpha =  0.05\n"
     ]
    }
   ],
   "source": [
    "pearson_criterion(file='5.txt', raspr='norm', correct='uniform')"
   ]
  },
  {
   "cell_type": "code",
   "execution_count": 20,
   "id": "6106550a",
   "metadata": {},
   "outputs": [
    {
     "name": "stdout",
     "output_type": "stream",
     "text": [
      "n_i:\n",
      " (-0.00953, 1.4]    52\n",
      "(1.4, 2.797]       37\n",
      "(2.797, 4.195]     18\n",
      "(4.195, 5.593]      8\n",
      "(5.593, 6.991]      4\n",
      "(6.991, 8.389]      3\n",
      "(8.389, 9.787]      5\n",
      "(9.787, 11.184]     1\n",
      "Name: 1, dtype: int64\n",
      "mj = 2.43    std = 2.35\n",
      "lam=  0.4116115438877457\n",
      "\n",
      "n_i ожидаемые:\n",
      " [56.06419655 31.45803988 17.71058785  9.96152035  5.60296974  3.15145367\n",
      "  1.77257074  0.9964748 ]\n",
      "\n",
      "CHI_SQR =  8.00418899319284\n",
      "dgr_freedom =  6 , alpha =  0.05\n"
     ]
    },
    {
     "data": {
      "image/png": "[encoded data removed]",
      "text/plain": [
       "<Figure size 576x360 with 1 Axes>"
      ]
     },
     "metadata": {
      "needs_background": "light"
     },
     "output_type": "display_data"
    }
   ],
   "source": [
    "pearson_criterion(file='6.txt', raspr='expon', correct='expon')"
   ]
  },
  {
   "cell_type": "code",
   "execution_count": 21,
   "id": "deb2f25f",
   "metadata": {},
   "outputs": [
    {
     "name": "stdout",
     "output_type": "stream",
     "text": [
      "n_i:\n",
      " (-0.00953, 1.4]    52\n",
      "(1.4, 2.797]       37\n",
      "(2.797, 4.195]     18\n",
      "(4.195, 5.593]      8\n",
      "(5.593, 6.991]      4\n",
      "(6.991, 8.389]      3\n",
      "(8.389, 9.787]      5\n",
      "(9.787, 11.184]     1\n",
      "Name: 1, dtype: int64\n",
      "mj = 2.43    std = 2.35\n",
      "\n",
      "n_i ожидаемые:\n",
      " [22.16644446 21.96939612 21.98512225 21.98512225 14.25001325  0.\n",
      "  0.          0.        ]\n",
      "\n",
      "CHI_SQR =  inf\n",
      "dgr_freedom =  5 , alpha =  0.05\n"
     ]
    }
   ],
   "source": [
    "pearson_criterion(file='6.txt', raspr='uniform', correct='expon')"
   ]
  },
  {
   "cell_type": "markdown",
   "id": "438848c7",
   "metadata": {},
   "source": [
    "### Критические значения:\n",
    "#### chi_sqr при k=5, alpha=0.05 равен 11.1\n",
    "#### chi_sqr при k=6, alpha=0.05 равен 12.6"
   ]
  },
  {
   "cell_type": "code",
   "execution_count": null,
   "id": "7c5a2cdb",
   "metadata": {},
   "outputs": [],
   "source": []
  },
  {
   "cell_type": "code",
   "execution_count": null,
   "id": "04f00a61",
   "metadata": {},
   "outputs": [],
   "source": []
  },
  {
   "cell_type": "code",
   "execution_count": null,
   "id": "1116ab02",
   "metadata": {},
   "outputs": [],
   "source": []
  },
  {
   "cell_type": "code",
   "execution_count": null,
   "id": "42c42838",
   "metadata": {},
   "outputs": [],
   "source": []
  },
  {
   "cell_type": "code",
   "execution_count": null,
   "id": "5c4ca068",
   "metadata": {},
   "outputs": [],
   "source": []
  }
 ],
 "metadata": {
  "kernelspec": {
   "display_name": "Python 3",
   "language": "python",
   "name": "python3"
  },
  "language_info": {
   "codemirror_mode": {
    "name": "ipython",
    "version": 3
   },
   "file_extension": ".py",
   "mimetype": "text/x-python",
   "name": "python",
   "nbconvert_exporter": "python",
   "pygments_lexer": "ipython3",
   "version": "3.8.8"
  }
 },
 "nbformat": 4,
 "nbformat_minor": 5
}
